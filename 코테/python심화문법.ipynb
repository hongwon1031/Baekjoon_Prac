{
 "cells": [
  {
   "cell_type": "markdown",
   "id": "9df65c0b",
   "metadata": {},
   "source": [
    "| 주제                        | 설명               | 예시                                       |        \n",
    "| ------------------------- | ---------------- | ---------------------------------------- |\n",
    "| **람다 함수** (`lambda`)      | 간단한 익명 함수        | `sorted(arr, key=lambda x: x[1])`        |        \n",
    "| **key 정렬**                | 정렬 기준을 직접 지정     | 문자열 길이로 정렬: `sorted(words, key=len)`     |        \n",
    "| **리스트 컴프리헨션**             | 한 줄로 리스트 생성      | `[x*x for x in range(10) if x % 2 == 0]` |        \n",
    "| **enumerate()**           | 인덱스 + 값 동시에 순회   | `for i, v in enumerate(arr):`            |        \n",
    "| **zip()**                 | 여러 리스트 묶기        | `for a, b in zip(list1, list2):`         |        \n",
    "| **collections 모듈**        | 빠르고 편한 자료구조      | `Counter`, `deque`, `defaultdict` 등      |        \n",
    "| **set 자료형**               | 중복 제거, 교집합/합집합 등 | `set1 & set2`                   |  \n",
    "| **heapq**                 | 최소/최대 힙 구현       | `heapq.heappush(heap, x)`                |        \n",
    "| **bisect 모듈**             | 이진 탐색 자동 구현      | `bisect.bisect_left(arr, x)`             |        \n",
    "| **map / filter / reduce** | 반복적 연산 처리        | `list(map(int, input().split()))`        |        \n",
    "| **itertools**             | 순열/조합 생성 등       | `permutations(arr, 3)`                   |        \n"
   ]
  },
  {
   "cell_type": "markdown",
   "id": "37251bee",
   "metadata": {},
   "source": [
    "### 입출력 속도"
   ]
  },
  {
   "cell_type": "code",
   "execution_count": null,
   "id": "a6c1d81a",
   "metadata": {},
   "outputs": [],
   "source": [
    "import sys\n",
    "def input():\n",
    "    return sys.stdin.readline()"
   ]
  },
  {
   "cell_type": "markdown",
   "id": "10fae3fa",
   "metadata": {},
   "source": [
    "### sep / end 출력\n",
    "- **sep** : print문의 출력문들 사이 값들 정의 (default : \"\")\n",
    "- **end** : print문으로 출력 완료 후의 값 정의 (defult : \\n)"
   ]
  },
  {
   "cell_type": "code",
   "execution_count": 8,
   "id": "6fba1bc6",
   "metadata": {},
   "outputs": [
    {
     "name": "stdout",
     "output_type": "stream",
     "text": [
      "i,like,pizza\n",
      "하이 하이\n"
     ]
    }
   ],
   "source": [
    "print(\"i\",\"like\",\"pizza\",sep = \",\")\n",
    "array = [1,2,3]\n",
    "print('하이',end=\" \")\n",
    "print('하이')"
   ]
  },
  {
   "cell_type": "markdown",
   "id": "3bde6224",
   "metadata": {},
   "source": [
    "### format\n",
    "- 특정 서식에 따라 문자 출력"
   ]
  },
  {
   "cell_type": "code",
   "execution_count": 11,
   "id": "4f52c836",
   "metadata": {},
   "outputs": [
    {
     "name": "stdout",
     "output_type": "stream",
     "text": [
      "5월 12일입니다\n",
      "나는 %s를 %d번째로 좋아한다\n"
     ]
    }
   ],
   "source": [
    "print('{0}월 {1}일입니다'.format(5,12))\n",
    "print('나는 %s를 %d번째로 좋아한다'.format('치킨',3))"
   ]
  },
  {
   "cell_type": "markdown",
   "id": "f067b91d",
   "metadata": {},
   "source": [
    "### 리스트 컴프리헨션\n",
    "---\n",
    "- 리스트를 빠르게 생성하거나 조건 필터링할 때 사용\n",
    "\n",
    "### 정렬\n",
    "---\n",
    "- sort()   - 원본이 바뀜\n",
    "    - `list.sort(key,reverse)`\n",
    "- sorted() - 원본 안바뀜\n",
    "    - `sorted(list,key,reverse)`"
   ]
  },
  {
   "cell_type": "code",
   "execution_count": 26,
   "id": "e6f6d5b3",
   "metadata": {},
   "outputs": [
    {
     "name": "stdout",
     "output_type": "stream",
     "text": [
      "[4, 16, 36, 64, 100]\n",
      "[3, 1, 2, 4]\n",
      "[1, 2, 3, 4]\n"
     ]
    }
   ],
   "source": [
    "arr = [x*x for x in range(1, 11) if x % 2 == 0] # 1~10인 수에서 짝수인 애들만 제곱\n",
    "print(arr)\n",
    "\n",
    "array = [3,1,2,4]\n",
    "\n",
    "sorted(array) # sorted\n",
    "print(array)  # 원본 변경 x\n",
    "\n",
    "array.sort()  # sort\n",
    "print(array)  # 원본 변경 o\n"
   ]
  },
  {
   "cell_type": "code",
   "execution_count": 24,
   "id": "4d48f149",
   "metadata": {},
   "outputs": [
    {
     "name": "stdout",
     "output_type": "stream",
     "text": [
      "['apple', 'ABC', 'A']\n"
     ]
    }
   ],
   "source": [
    "li = ['apple','A','ABC']\n",
    "new_li = sorted(li,key=len,reverse=True)\n",
    "print(new_li)"
   ]
  },
  {
   "cell_type": "markdown",
   "id": "1c4302f8",
   "metadata": {},
   "source": [
    "### `lambda` + `key` 정렬\n",
    "---\n",
    "- 튜플, 딕셔너리, 복합 기준 정렬에서 사용"
   ]
  },
  {
   "cell_type": "code",
   "execution_count": 28,
   "id": "38bcf8f4",
   "metadata": {},
   "outputs": [
    {
     "name": "stdout",
     "output_type": "stream",
     "text": [
      "[(3, 1), (2, 2), (1, 3)]\n"
     ]
    }
   ],
   "source": [
    "arr = [(1, 3), (2, 2), (3, 1)] # 리스트(튜플) 형태태\n",
    "new_arr = sorted(arr, key=lambda x: x[1]) # 튜플의 1번 인덱스만 보고 정렬렬\n",
    "print(new_arr)"
   ]
  },
  {
   "cell_type": "markdown",
   "id": "d61dddce",
   "metadata": {},
   "source": [
    "### `collections.Counter`\n",
    "---\n",
    "- 빠르게 등장 빈도를 셀 수 있음\n",
    "- 딕셔너리 형태로 출력"
   ]
  },
  {
   "cell_type": "code",
   "execution_count": 31,
   "id": "620a55a1",
   "metadata": {},
   "outputs": [
    {
     "name": "stdout",
     "output_type": "stream",
     "text": [
      "Counter({'a': 3, 'n': 2, 'b': 1})\n"
     ]
    }
   ],
   "source": [
    "from collections import Counter\n",
    "s = 'banana'\n",
    "count = Counter(s) # 딕셔너리 형태로 출력력\n",
    "print(count)"
   ]
  },
  {
   "cell_type": "markdown",
   "id": "3702fc26",
   "metadata": {},
   "source": [
    "### `enumerate()`\n",
    "---\n",
    "- **인덱스 + 값** 둘다 사용 가능"
   ]
  },
  {
   "cell_type": "code",
   "execution_count": 32,
   "id": "45b39c13",
   "metadata": {},
   "outputs": [
    {
     "name": "stdout",
     "output_type": "stream",
     "text": [
      "0번째 값은 a입니다\n",
      "1번째 값은 b입니다\n",
      "2번째 값은 c입니다\n"
     ]
    }
   ],
   "source": [
    "li = ['a','b','c']\n",
    "for i, value in enumerate(li):\n",
    "    print(f'{i}번째 값은 {value}입니다')"
   ]
  },
  {
   "cell_type": "markdown",
   "id": "53f89a1a",
   "metadata": {},
   "source": [
    "### `deque`(양방향 큐)\n",
    "---\n",
    "- BFS 구현 시 필수. list.pop(0)은 느리기 때문에 deque 사용해야 함"
   ]
  },
  {
   "cell_type": "code",
   "execution_count": 35,
   "id": "ed1a3f62",
   "metadata": {},
   "outputs": [
    {
     "name": "stdout",
     "output_type": "stream",
     "text": [
      "deque([1, 2, 3])\n",
      "deque([1, 2, 3, 4])\n",
      "deque([2, 3, 4])\n"
     ]
    }
   ],
   "source": [
    "from collections import deque\n",
    "q = deque([1,2,3])\n",
    "print(q)\n",
    "\n",
    "q.append(4)\n",
    "print(q)\n",
    "\n",
    "q.popleft()\n",
    "print(q)"
   ]
  },
  {
   "cell_type": "markdown",
   "id": "6c2fb002",
   "metadata": {},
   "source": [
    "### `heapq` (우선순위 큐)\n",
    "---\n",
    "- **다익스트라, 최소/최대값** 우선 처리에 거의 필수"
   ]
  },
  {
   "cell_type": "code",
   "execution_count": 37,
   "id": "c6bbc751",
   "metadata": {},
   "outputs": [
    {
     "name": "stdout",
     "output_type": "stream",
     "text": [
      "[]\n",
      "[3]\n",
      "[1, 3]\n",
      "1\n",
      "[3]\n"
     ]
    }
   ],
   "source": [
    "import heapq\n",
    "heap = []\n",
    "print(heap)\n",
    "\n",
    "heapq.heappush(heap, 3)\n",
    "print(heap)\n",
    "\n",
    "heapq.heappush(heap, 1)\n",
    "print(heap)\n",
    "\n",
    "print(heapq.heappop(heap))  # → 1 (최소값부터 나옴)\n",
    "print(heap)"
   ]
  },
  {
   "cell_type": "markdown",
   "id": "9701b0e1",
   "metadata": {},
   "source": [
    "### `bisect` (이진 탐색)\n",
    "---\n",
    "- **정렬된 배열**에서 원하는 값을 빠르게 찾을 수 있음"
   ]
  },
  {
   "cell_type": "code",
   "execution_count": 42,
   "id": "5bd37280",
   "metadata": {},
   "outputs": [
    {
     "data": {
      "text/plain": [
       "2"
      ]
     },
     "execution_count": 42,
     "metadata": {},
     "output_type": "execute_result"
    }
   ],
   "source": [
    "import bisect\n",
    "li = [1,2,4,4,5]\n",
    "bisect.bisect_left(li,4) # 4가 처음 등장하는 인덱스"
   ]
  },
  {
   "cell_type": "markdown",
   "id": "cb2d1dbf",
   "metadata": {},
   "source": [
    "### `itertools` (순열, 조합)\n",
    "---\n",
    "- **완전 탐색 문제**에서 자주 등장 (예: 암호 만들기, 비밀번호 경우의 수 등)\n",
    "    - `permutations` - 순열\n",
    "    - `combinations` - 조합"
   ]
  },
  {
   "cell_type": "code",
   "execution_count": 46,
   "id": "19d6596e",
   "metadata": {},
   "outputs": [
    {
     "name": "stdout",
     "output_type": "stream",
     "text": [
      "[(1, 2), (1, 3), (2, 1), (2, 3), (3, 1), (3, 2)]\n",
      "[(1, 2), (1, 3), (2, 3)]\n"
     ]
    }
   ],
   "source": [
    "from itertools import permutations, combinations\n",
    "print(list(permutations([1,2,3], 2)))\n",
    "print(list(combinations([1,2,3], 2)))"
   ]
  },
  {
   "cell_type": "markdown",
   "id": "4cae8cfd",
   "metadata": {},
   "source": []
  }
 ],
 "metadata": {
  "kernelspec": {
   "display_name": "Python 3",
   "language": "python",
   "name": "python3"
  },
  "language_info": {
   "codemirror_mode": {
    "name": "ipython",
    "version": 3
   },
   "file_extension": ".py",
   "mimetype": "text/x-python",
   "name": "python",
   "nbconvert_exporter": "python",
   "pygments_lexer": "ipython3",
   "version": "3.12.1"
  }
 },
 "nbformat": 4,
 "nbformat_minor": 5
}
