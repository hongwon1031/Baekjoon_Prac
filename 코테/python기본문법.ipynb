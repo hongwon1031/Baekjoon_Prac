{
 "cells": [
  {
   "cell_type": "markdown",
   "id": "6e43f5ed",
   "metadata": {},
   "source": [
    "### 사칙연산\n",
    "- '/'   : 나누기\n",
    "- '//'  : 몫\n",
    "- '%'   : 나머지\n",
    "---\n",
    "### 반올림\n",
    "1. **`round()` : 가까운 짝수로 반올림**\n",
    "- `round(3.5)` = 4\n",
    "- `round(2.5)` = 2\n",
    "2. **0.5 더해서 int붙이기**\n",
    "- `int(3.5 + 0.5)` = 4\n",
    "- `int(2.5 + 0.5)` = 3\n",
    "- `int(2.4 + 0.5)` = 2"
   ]
  },
  {
   "cell_type": "code",
   "execution_count": 2,
   "id": "ba18364e",
   "metadata": {},
   "outputs": [
    {
     "name": "stdout",
     "output_type": "stream",
     "text": [
      "4\n",
      "2\n"
     ]
    }
   ],
   "source": [
    "print(round(3.5))\n",
    "print(round(2.5))"
   ]
  },
  {
   "cell_type": "code",
   "execution_count": 7,
   "id": "a510b6c2",
   "metadata": {},
   "outputs": [
    {
     "name": "stdout",
     "output_type": "stream",
     "text": [
      "2 * 1 = 2\n",
      "2 * 2 = 4\n",
      "2 * 3 = 6\n",
      "2 * 4 = 8\n",
      "2 * 5 = 10\n",
      "2 * 6 = 12\n",
      "2 * 7 = 14\n",
      "2 * 8 = 16\n",
      "2 * 9 = 18\n",
      "2 단\n",
      "3 * 1 = 3\n",
      "3 * 2 = 6\n",
      "3 * 3 = 9\n",
      "3 * 4 = 12\n",
      "3 * 5 = 15\n",
      "3 * 6 = 18\n",
      "3 * 7 = 21\n",
      "3 * 8 = 24\n",
      "3 * 9 = 27\n",
      "3 단\n",
      "4 * 1 = 4\n",
      "4 * 2 = 8\n",
      "4 * 3 = 12\n",
      "4 * 4 = 16\n",
      "4 * 5 = 20\n",
      "4 * 6 = 24\n",
      "4 * 7 = 28\n",
      "4 * 8 = 32\n",
      "4 * 9 = 36\n",
      "4 단\n",
      "5 * 1 = 5\n",
      "5 * 2 = 10\n",
      "5 * 3 = 15\n",
      "5 * 4 = 20\n",
      "5 * 5 = 25\n",
      "5 * 6 = 30\n",
      "5 * 7 = 35\n",
      "5 * 8 = 40\n",
      "5 * 9 = 45\n",
      "5 단\n",
      "6 * 1 = 6\n",
      "6 * 2 = 12\n",
      "6 * 3 = 18\n",
      "6 * 4 = 24\n",
      "6 * 5 = 30\n",
      "6 * 6 = 36\n",
      "6 * 7 = 42\n",
      "6 * 8 = 48\n",
      "6 * 9 = 54\n",
      "6 단\n",
      "7 * 1 = 7\n",
      "7 * 2 = 14\n",
      "7 * 3 = 21\n",
      "7 * 4 = 28\n",
      "7 * 5 = 35\n",
      "7 * 6 = 42\n",
      "7 * 7 = 49\n",
      "7 * 8 = 56\n",
      "7 * 9 = 63\n",
      "7 단\n",
      "8 * 1 = 8\n",
      "8 * 2 = 16\n",
      "8 * 3 = 24\n",
      "8 * 4 = 32\n",
      "8 * 5 = 40\n",
      "8 * 6 = 48\n",
      "8 * 7 = 56\n",
      "8 * 8 = 64\n",
      "8 * 9 = 72\n",
      "8 단\n",
      "9 * 1 = 9\n",
      "9 * 2 = 18\n",
      "9 * 3 = 27\n",
      "9 * 4 = 36\n",
      "9 * 5 = 45\n",
      "9 * 6 = 54\n",
      "9 * 7 = 63\n",
      "9 * 8 = 72\n",
      "9 * 9 = 81\n",
      "9 단\n"
     ]
    }
   ],
   "source": [
    "\n",
    "for i in range(2,10):\n",
    "    for j in range(1,10):\n",
    "        print(f'{i} * {j} = {i*j}')\n",
    "    print(i,'단')\n"
   ]
  },
  {
   "cell_type": "markdown",
   "id": "fed14ceb",
   "metadata": {},
   "source": [
    "- ### 난수생성 `random` <br/>\n",
    "\n",
    "**random.randint** : 난수 생성 <br/>\n",
    "`random.randint(1,6)` : 1~6사이의 난수 생성\n",
    "<br/>\n",
    "\n",
    "---\n",
    "- ### 시간 `time`\n",
    "\n",
    "**time.sleep** : 시간 지연 <br/>\n",
    "`time.sleep(2)` : 2초 지연\n"
   ]
  },
  {
   "cell_type": "code",
   "execution_count": 12,
   "id": "30a82233",
   "metadata": {},
   "outputs": [
    {
     "name": "stdout",
     "output_type": "stream",
     "text": [
      "6\n",
      "2\n"
     ]
    }
   ],
   "source": [
    "import random, time\n",
    "print(random.randint(1,6))\n",
    "time.sleep(2)\n",
    "print(random.randint(1,6))"
   ]
  },
  {
   "cell_type": "markdown",
   "id": "18f6655a",
   "metadata": {},
   "source": [
    "## 리스트\n",
    "---\n",
    "- 추가 - append()\n",
    "- 삭제 - del\n",
    "- 길이 - len\n",
    "- 슬라이싱 - (start : end : step)"
   ]
  },
  {
   "cell_type": "code",
   "execution_count": null,
   "id": "bd05ffae",
   "metadata": {},
   "outputs": [],
   "source": [
    "test_arr = ['data1','data2','data3','data4']"
   ]
  }
 ],
 "metadata": {
  "kernelspec": {
   "display_name": "Python 3",
   "language": "python",
   "name": "python3"
  },
  "language_info": {
   "codemirror_mode": {
    "name": "ipython",
    "version": 3
   },
   "file_extension": ".py",
   "mimetype": "text/x-python",
   "name": "python",
   "nbconvert_exporter": "python",
   "pygments_lexer": "ipython3",
   "version": "3.12.1"
  }
 },
 "nbformat": 4,
 "nbformat_minor": 5
}
