{
 "cells": [
  {
   "cell_type": "markdown",
   "id": "6e43f5ed",
   "metadata": {},
   "source": [
    "### 사칙연산\n",
    "- '/'   : 나누기\n",
    "- '//'  : 몫\n",
    "- '%'   : 나머지\n",
    "---\n",
    "### 반올림\n",
    "1. **`round()` : 가까운 짝수로 반올림**\n",
    "- `round(3.5)` = 4\n",
    "- `round(2.5)` = 2\n",
    "2. **0.5 더해서 int붙이기**\n",
    "- `int(3.5 + 0.5)` = 4\n",
    "- `int(2.5 + 0.5)` = 3\n",
    "- `int(2.4 + 0.5)` = 2"
   ]
  },
  {
   "cell_type": "code",
   "execution_count": 2,
   "id": "ba18364e",
   "metadata": {},
   "outputs": [
    {
     "name": "stdout",
     "output_type": "stream",
     "text": [
      "4\n",
      "2\n"
     ]
    }
   ],
   "source": [
    "print(round(3.5))\n",
    "print(round(2.5))"
   ]
  },
  {
   "cell_type": "code",
   "execution_count": 7,
   "id": "a510b6c2",
   "metadata": {},
   "outputs": [
    {
     "name": "stdout",
     "output_type": "stream",
     "text": [
      "2 * 1 = 2\n",
      "2 * 2 = 4\n",
      "2 * 3 = 6\n",
      "2 * 4 = 8\n",
      "2 * 5 = 10\n",
      "2 * 6 = 12\n",
      "2 * 7 = 14\n",
      "2 * 8 = 16\n",
      "2 * 9 = 18\n",
      "2 단\n",
      "3 * 1 = 3\n",
      "3 * 2 = 6\n",
      "3 * 3 = 9\n",
      "3 * 4 = 12\n",
      "3 * 5 = 15\n",
      "3 * 6 = 18\n",
      "3 * 7 = 21\n",
      "3 * 8 = 24\n",
      "3 * 9 = 27\n",
      "3 단\n",
      "4 * 1 = 4\n",
      "4 * 2 = 8\n",
      "4 * 3 = 12\n",
      "4 * 4 = 16\n",
      "4 * 5 = 20\n",
      "4 * 6 = 24\n",
      "4 * 7 = 28\n",
      "4 * 8 = 32\n",
      "4 * 9 = 36\n",
      "4 단\n",
      "5 * 1 = 5\n",
      "5 * 2 = 10\n",
      "5 * 3 = 15\n",
      "5 * 4 = 20\n",
      "5 * 5 = 25\n",
      "5 * 6 = 30\n",
      "5 * 7 = 35\n",
      "5 * 8 = 40\n",
      "5 * 9 = 45\n",
      "5 단\n",
      "6 * 1 = 6\n",
      "6 * 2 = 12\n",
      "6 * 3 = 18\n",
      "6 * 4 = 24\n",
      "6 * 5 = 30\n",
      "6 * 6 = 36\n",
      "6 * 7 = 42\n",
      "6 * 8 = 48\n",
      "6 * 9 = 54\n",
      "6 단\n",
      "7 * 1 = 7\n",
      "7 * 2 = 14\n",
      "7 * 3 = 21\n",
      "7 * 4 = 28\n",
      "7 * 5 = 35\n",
      "7 * 6 = 42\n",
      "7 * 7 = 49\n",
      "7 * 8 = 56\n",
      "7 * 9 = 63\n",
      "7 단\n",
      "8 * 1 = 8\n",
      "8 * 2 = 16\n",
      "8 * 3 = 24\n",
      "8 * 4 = 32\n",
      "8 * 5 = 40\n",
      "8 * 6 = 48\n",
      "8 * 7 = 56\n",
      "8 * 8 = 64\n",
      "8 * 9 = 72\n",
      "8 단\n",
      "9 * 1 = 9\n",
      "9 * 2 = 18\n",
      "9 * 3 = 27\n",
      "9 * 4 = 36\n",
      "9 * 5 = 45\n",
      "9 * 6 = 54\n",
      "9 * 7 = 63\n",
      "9 * 8 = 72\n",
      "9 * 9 = 81\n",
      "9 단\n"
     ]
    }
   ],
   "source": [
    "\n",
    "for i in range(2,10):\n",
    "    for j in range(1,10):\n",
    "        print(f'{i} * {j} = {i*j}')\n",
    "    print(i,'단')\n"
   ]
  },
  {
   "cell_type": "markdown",
   "id": "fed14ceb",
   "metadata": {},
   "source": [
    "- ### 난수생성 `random` <br/>\n",
    "\n",
    "**random.randint** : 난수 생성 <br/>\n",
    "`random.randint(1,6)` : 1~6사이의 난수 생성\n",
    "<br/>\n",
    "\n",
    "---\n",
    "- ### 시간 `time`\n",
    "\n",
    "**time.sleep** : 시간 지연 <br/>\n",
    "`time.sleep(2)` : 2초 지연\n"
   ]
  },
  {
   "cell_type": "code",
   "execution_count": 12,
   "id": "30a82233",
   "metadata": {},
   "outputs": [
    {
     "name": "stdout",
     "output_type": "stream",
     "text": [
      "6\n",
      "2\n"
     ]
    }
   ],
   "source": [
    "import random, time\n",
    "print(random.randint(1,6))\n",
    "time.sleep(2)\n",
    "print(random.randint(1,6))"
   ]
  },
  {
   "cell_type": "markdown",
   "id": "18f6655a",
   "metadata": {},
   "source": [
    "## 리스트\n",
    "---\n",
    "- 추가 - append()\n",
    "- 삭제 - del\n",
    "- 길이 - len\n",
    "- 슬라이싱 - (start : end : step)"
   ]
  },
  {
   "cell_type": "code",
   "execution_count": null,
   "id": "bd05ffae",
   "metadata": {},
   "outputs": [
    {
     "name": "stdout",
     "output_type": "stream",
     "text": [
      "현재 리스트는 ['data1', 'data2', 'data3', 'data4']\n",
      "data3\n",
      "현재 리스트는 ['data2', 'new', 'data4', 'data5']\n"
     ]
    }
   ],
   "source": [
    "test_arr = ['data1','data2','data3','data4'] # 리스트 생성\n",
    "print('현재 리스트는', test_arr)    # 리스트 출력 \n",
    "print(test_arr[2]) # 데이터 접근\n",
    "\n",
    "test_arr[2] = 'new'    # 데이터 할당\n",
    "test_arr.append('data5') # 데이터 추가\n",
    "del test_arr[0]    # 데이터 삭제\n",
    "\n",
    "print('현재 리스트는', test_arr)    "
   ]
  },
  {
   "cell_type": "markdown",
   "id": "9451a412",
   "metadata": {},
   "source": [
    "## 문자열\n",
    "---\n",
    "- 개수 찾기 - count()\n",
    "- 문자 찾기 - find()\n",
    "- 문자 변경 - replace()\n",
    "- 문자 자르기 - split()\n",
    "- 문자 합치기 - join()\n",
    "- 공백 제거 - strip()"
   ]
  },
  {
   "cell_type": "code",
   "execution_count": 39,
   "id": "23075cd0",
   "metadata": {},
   "outputs": [
    {
     "name": "stdout",
     "output_type": "stream",
     "text": [
      "some message from server to server some message from server to server\n",
      "some의 개수 : 2\n",
      "o의 첫 인덱스 : 1\n",
      "o의 개수 : 6\n",
      "바꾼 문자열 : hi message from server to server hi message from server to server\n",
      "['hi', 'message', 'from', 'server', 'to', 'server', 'hi', 'message', 'from', 'server', 'to', 'server']\n",
      "합친 문자열: hi message from server to server hi message from server to server\n",
      "hello\n",
      "hello\n"
     ]
    }
   ],
   "source": [
    "message = 'some message from server to server some message from server to server'\n",
    "print(message)\n",
    "\n",
    "# 개수 찾기\n",
    "print('some의 개수 :', message.count('some'))\n",
    "\n",
    "# 문자 찾기\n",
    "print('o의 첫 인덱스 :', message.find('o')) # 첫 인덱스 반환\n",
    "print('o의 개수 :', message.count('o'))     # 개수 반환\n",
    "\n",
    "# 문자 변경\n",
    "new_message = message.replace('some','hi') # some을 전부 hi로 변경\n",
    "print('바꾼 문자열 :', new_message)\n",
    "\n",
    "# 문자열 스플릿\n",
    "slice = new_message.split(' ') # 공백을 기준으로 슬라이스\n",
    "print(slice)\n",
    "\n",
    "# 문자열 합치기\n",
    "join_slice = \" \".join(slice) # 공백을 기준으로 합침침\n",
    "print('합친 문자열:', join_slice)\n",
    "\n",
    "# 공백문자 제거\n",
    "text = '*******      hello      *******'\n",
    "# 1. 단계별로\n",
    "striped_text = text.strip('*') # 좌우 별표부터 제거\n",
    "striped_text = striped_text.strip() # 좌우 공백 제거거\n",
    "print(striped_text)\n",
    "# 2. 한번에\n",
    "striped_text = text.strip('*').strip() # 메서드 체이닝 -> 별표 제거 + 공백 제거\n",
    "print(striped_text)"
   ]
  },
  {
   "cell_type": "code",
   "execution_count": null,
   "id": "259223bd",
   "metadata": {},
   "outputs": [],
   "source": []
  }
 ],
 "metadata": {
  "kernelspec": {
   "display_name": "Python 3",
   "language": "python",
   "name": "python3"
  },
  "language_info": {
   "codemirror_mode": {
    "name": "ipython",
    "version": 3
   },
   "file_extension": ".py",
   "mimetype": "text/x-python",
   "name": "python",
   "nbconvert_exporter": "python",
   "pygments_lexer": "ipython3",
   "version": "3.12.1"
  }
 },
 "nbformat": 4,
 "nbformat_minor": 5
}
